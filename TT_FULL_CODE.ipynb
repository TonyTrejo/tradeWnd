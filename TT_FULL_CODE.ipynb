{
 "cells": [
  {
   "cell_type": "markdown",
   "metadata": {},
   "source": [
    "# Unsupervised Learning: Trade&Ahead\n",
    "\n",
    "**Marks: 60**"
   ]
  },
  {
   "cell_type": "markdown",
   "metadata": {},
   "source": [
    "## Context\n",
    "\n",
    "The stock market has consistently proven to be a good place to invest in and save for the future. There are a lot of compelling reasons to invest in stocks. It can help in fighting inflation, create wealth, and also provides some tax benefits. Good steady returns on investments over a long period of time can also grow a lot more than seems possible. Also, thanks to the power of compound interest, the earlier one starts investing, the larger the corpus one can have for retirement. Overall, investing in stocks can help meet life's financial aspirations.\n",
    "\n",
    "It is important to maintain a diversified portfolio when investing in stocks in order to maximise earnings under any market condition. Having a diversified portfolio tends to yield higher returns and face lower risk by tempering potential losses when the market is down. It is often easy to get lost in a sea of financial metrics to analyze while determining the worth of a stock, and doing the same for a multitude of stocks to identify the right picks for an individual can be a tedious task. By doing a cluster analysis, one can identify stocks that exhibit similar characteristics and ones which exhibit minimum correlation. This will help investors better analyze stocks across different market segments and help protect against risks that could make the portfolio vulnerable to losses.\n",
    "\n",
    "\n",
    "## Objective\n",
    "\n",
    "Trade&Ahead is a financial consultancy firm who provide their customers with personalized investment strategies. They have hired you as a Data Scientist and provided you with data comprising stock price and some financial indicators for a few companies listed under the New York Stock Exchange. They have assigned you the tasks of analyzing the data, grouping the stocks based on the attributes provided, and sharing insights about the characteristics of each group."
   ]
  },
  {
   "cell_type": "markdown",
   "metadata": {},
   "source": [
    "### Data Dictionary\n",
    "\n",
    "- Ticker Symbol: An abbreviation used to uniquely identify publicly traded shares of a particular stock on a particular stock market\n",
    "- Company: Name of the company\n",
    "- GICS Sector: The specific economic sector assigned to a company by the Global Industry Classification Standard (GICS) that best defines its business operations\n",
    "- GICS Sub Industry: The specific sub-industry group assigned to a company by the Global Industry Classification Standard (GICS) that best defines its business operations\n",
    "- Current Price: Current stock price in dollars\n",
    "- Price Change: Percentage change in the stock price in 13 weeks\n",
    "- Volatility: Standard deviation of the stock price over the past 13 weeks\n",
    "- ROE: A measure of financial performance calculated by dividing net income by shareholders' equity (shareholders' equity is equal to a company's assets minus its debt)\n",
    "- Cash Ratio: The ratio of a  company's total reserves of cash and cash equivalents to its total current liabilities\n",
    "- Net Cash Flow: The difference between a company's cash inflows and outflows (in dollars)\n",
    "- Net Income: Revenues minus expenses, interest, and taxes (in dollars)\n",
    "- Earnings Per Share: Company's net profit divided by the number of common shares it has outstanding (in dollars)\n",
    "- Estimated Shares Outstanding: Company's stock currently held by all its shareholders\n",
    "- P/E Ratio: Ratio of the company's current stock price to the earnings per share \n",
    "- P/B Ratio: Ratio of the company's stock price per share by its book value per share (book value of a company is the net difference between that company's total assets and total liabilities)"
   ]
  },
  {
   "cell_type": "markdown",
   "metadata": {
    "id": "GLmC-0-fDPyI"
   },
   "source": [
    "## Importing necessary libraries and data"
   ]
  },
  {
   "cell_type": "code",
   "execution_count": 1,
   "metadata": {
    "id": "zeF8YaNKDPyK"
   },
   "outputs": [
    {
     "data": {
      "application/javascript": [
       "\n",
       "            setTimeout(function() {\n",
       "                var nbb_cell_id = 1;\n",
       "                var nbb_unformatted_code = \"import numpy as np\\nimport pandas as pd\\nimport matplotlib.pyplot as plt\\n\\n%matplotlib inline\\nimport seaborn as sns\\n\\n# clean up warnings\\nimport warnings\\n\\nwarnings.filterwarnings(\\\"ignore\\\")\\n%load_ext nb_black\";\n",
       "                var nbb_formatted_code = \"import numpy as np\\nimport pandas as pd\\nimport matplotlib.pyplot as plt\\n\\n%matplotlib inline\\nimport seaborn as sns\\n\\n# clean up warnings\\nimport warnings\\n\\nwarnings.filterwarnings(\\\"ignore\\\")\\n%load_ext nb_black\";\n",
       "                var nbb_cells = Jupyter.notebook.get_cells();\n",
       "                for (var i = 0; i < nbb_cells.length; ++i) {\n",
       "                    if (nbb_cells[i].input_prompt_number == nbb_cell_id) {\n",
       "                        if (nbb_cells[i].get_text() == nbb_unformatted_code) {\n",
       "                             nbb_cells[i].set_text(nbb_formatted_code);\n",
       "                        }\n",
       "                        break;\n",
       "                    }\n",
       "                }\n",
       "            }, 500);\n",
       "            "
      ],
      "text/plain": [
       "<IPython.core.display.Javascript object>"
      ]
     },
     "metadata": {},
     "output_type": "display_data"
    }
   ],
   "source": [
    "import numpy as np\n",
    "import pandas as pd\n",
    "import matplotlib.pyplot as plt\n",
    "\n",
    "%matplotlib inline\n",
    "import seaborn as sns\n",
    "\n",
    "# clean up warnings\n",
    "import warnings\n",
    "\n",
    "warnings.filterwarnings(\"ignore\")\n",
    "%load_ext nb_black"
   ]
  },
  {
   "cell_type": "markdown",
   "metadata": {
    "id": "UvpMDcaaMKtI"
   },
   "source": [
    "## Data Overview\n",
    "\n",
    "- Observations\n",
    "- Sanity checks"
   ]
  },
  {
   "cell_type": "code",
   "execution_count": 2,
   "metadata": {
    "id": "01hJQ7EfMKtK"
   },
   "outputs": [
    {
     "data": {
      "application/javascript": [
       "\n",
       "            setTimeout(function() {\n",
       "                var nbb_cell_id = 2;\n",
       "                var nbb_unformatted_code = \"# upload the data and make a copy to work with\\ndf = pd.read_csv(\\\"stock_data.csv\\\")\\nstk_data = df.copy()\";\n",
       "                var nbb_formatted_code = \"# upload the data and make a copy to work with\\ndf = pd.read_csv(\\\"stock_data.csv\\\")\\nstk_data = df.copy()\";\n",
       "                var nbb_cells = Jupyter.notebook.get_cells();\n",
       "                for (var i = 0; i < nbb_cells.length; ++i) {\n",
       "                    if (nbb_cells[i].input_prompt_number == nbb_cell_id) {\n",
       "                        if (nbb_cells[i].get_text() == nbb_unformatted_code) {\n",
       "                             nbb_cells[i].set_text(nbb_formatted_code);\n",
       "                        }\n",
       "                        break;\n",
       "                    }\n",
       "                }\n",
       "            }, 500);\n",
       "            "
      ],
      "text/plain": [
       "<IPython.core.display.Javascript object>"
      ]
     },
     "metadata": {},
     "output_type": "display_data"
    }
   ],
   "source": [
    "# upload the data and make a copy to work with\n",
    "df = pd.read_csv(\"stock_data.csv\")\n",
    "stk_data = df.copy()"
   ]
  },
  {
   "cell_type": "code",
   "execution_count": 3,
   "metadata": {},
   "outputs": [
    {
     "data": {
      "text/plain": [
       "(340, 15)"
      ]
     },
     "execution_count": 3,
     "metadata": {},
     "output_type": "execute_result"
    },
    {
     "data": {
      "application/javascript": [
       "\n",
       "            setTimeout(function() {\n",
       "                var nbb_cell_id = 3;\n",
       "                var nbb_unformatted_code = \"stk_data.shape\";\n",
       "                var nbb_formatted_code = \"stk_data.shape\";\n",
       "                var nbb_cells = Jupyter.notebook.get_cells();\n",
       "                for (var i = 0; i < nbb_cells.length; ++i) {\n",
       "                    if (nbb_cells[i].input_prompt_number == nbb_cell_id) {\n",
       "                        if (nbb_cells[i].get_text() == nbb_unformatted_code) {\n",
       "                             nbb_cells[i].set_text(nbb_formatted_code);\n",
       "                        }\n",
       "                        break;\n",
       "                    }\n",
       "                }\n",
       "            }, 500);\n",
       "            "
      ],
      "text/plain": [
       "<IPython.core.display.Javascript object>"
      ]
     },
     "metadata": {},
     "output_type": "display_data"
    }
   ],
   "source": [
    "stk_data.shape"
   ]
  },
  {
   "cell_type": "code",
   "execution_count": 4,
   "metadata": {},
   "outputs": [
    {
     "name": "stdout",
     "output_type": "stream",
     "text": [
      "<class 'pandas.core.frame.DataFrame'>\n",
      "RangeIndex: 340 entries, 0 to 339\n",
      "Data columns (total 15 columns):\n",
      " #   Column                        Non-Null Count  Dtype  \n",
      "---  ------                        --------------  -----  \n",
      " 0   Ticker Symbol                 340 non-null    object \n",
      " 1   Security                      340 non-null    object \n",
      " 2   GICS Sector                   340 non-null    object \n",
      " 3   GICS Sub Industry             340 non-null    object \n",
      " 4   Current Price                 340 non-null    float64\n",
      " 5   Price Change                  340 non-null    float64\n",
      " 6   Volatility                    340 non-null    float64\n",
      " 7   ROE                           340 non-null    int64  \n",
      " 8   Cash Ratio                    340 non-null    int64  \n",
      " 9   Net Cash Flow                 340 non-null    int64  \n",
      " 10  Net Income                    340 non-null    int64  \n",
      " 11  Earnings Per Share            340 non-null    float64\n",
      " 12  Estimated Shares Outstanding  340 non-null    float64\n",
      " 13  P/E Ratio                     340 non-null    float64\n",
      " 14  P/B Ratio                     340 non-null    float64\n",
      "dtypes: float64(7), int64(4), object(4)\n",
      "memory usage: 40.0+ KB\n"
     ]
    },
    {
     "data": {
      "application/javascript": [
       "\n",
       "            setTimeout(function() {\n",
       "                var nbb_cell_id = 4;\n",
       "                var nbb_unformatted_code = \"stk_data.info()\";\n",
       "                var nbb_formatted_code = \"stk_data.info()\";\n",
       "                var nbb_cells = Jupyter.notebook.get_cells();\n",
       "                for (var i = 0; i < nbb_cells.length; ++i) {\n",
       "                    if (nbb_cells[i].input_prompt_number == nbb_cell_id) {\n",
       "                        if (nbb_cells[i].get_text() == nbb_unformatted_code) {\n",
       "                             nbb_cells[i].set_text(nbb_formatted_code);\n",
       "                        }\n",
       "                        break;\n",
       "                    }\n",
       "                }\n",
       "            }, 500);\n",
       "            "
      ],
      "text/plain": [
       "<IPython.core.display.Javascript object>"
      ]
     },
     "metadata": {},
     "output_type": "display_data"
    }
   ],
   "source": [
    "stk_data.info()"
   ]
  },
  {
   "cell_type": "code",
   "execution_count": 5,
   "metadata": {},
   "outputs": [
    {
     "data": {
      "text/html": [
       "<div>\n",
       "<style scoped>\n",
       "    .dataframe tbody tr th:only-of-type {\n",
       "        vertical-align: middle;\n",
       "    }\n",
       "\n",
       "    .dataframe tbody tr th {\n",
       "        vertical-align: top;\n",
       "    }\n",
       "\n",
       "    .dataframe thead th {\n",
       "        text-align: right;\n",
       "    }\n",
       "</style>\n",
       "<table border=\"1\" class=\"dataframe\">\n",
       "  <thead>\n",
       "    <tr style=\"text-align: right;\">\n",
       "      <th></th>\n",
       "      <th>Ticker Symbol</th>\n",
       "      <th>Security</th>\n",
       "      <th>GICS Sector</th>\n",
       "      <th>GICS Sub Industry</th>\n",
       "      <th>Current Price</th>\n",
       "      <th>Price Change</th>\n",
       "      <th>Volatility</th>\n",
       "      <th>ROE</th>\n",
       "      <th>Cash Ratio</th>\n",
       "      <th>Net Cash Flow</th>\n",
       "      <th>Net Income</th>\n",
       "      <th>Earnings Per Share</th>\n",
       "      <th>Estimated Shares Outstanding</th>\n",
       "      <th>P/E Ratio</th>\n",
       "      <th>P/B Ratio</th>\n",
       "    </tr>\n",
       "  </thead>\n",
       "  <tbody>\n",
       "    <tr>\n",
       "      <th>0</th>\n",
       "      <td>AAL</td>\n",
       "      <td>American Airlines Group</td>\n",
       "      <td>Industrials</td>\n",
       "      <td>Airlines</td>\n",
       "      <td>42.349998</td>\n",
       "      <td>9.999995</td>\n",
       "      <td>1.687151</td>\n",
       "      <td>135</td>\n",
       "      <td>51</td>\n",
       "      <td>-604000000</td>\n",
       "      <td>7610000000</td>\n",
       "      <td>11.39</td>\n",
       "      <td>6.681299e+08</td>\n",
       "      <td>3.718174</td>\n",
       "      <td>-8.784219</td>\n",
       "    </tr>\n",
       "    <tr>\n",
       "      <th>1</th>\n",
       "      <td>ABBV</td>\n",
       "      <td>AbbVie</td>\n",
       "      <td>Health Care</td>\n",
       "      <td>Pharmaceuticals</td>\n",
       "      <td>59.240002</td>\n",
       "      <td>8.339433</td>\n",
       "      <td>2.197887</td>\n",
       "      <td>130</td>\n",
       "      <td>77</td>\n",
       "      <td>51000000</td>\n",
       "      <td>5144000000</td>\n",
       "      <td>3.15</td>\n",
       "      <td>1.633016e+09</td>\n",
       "      <td>18.806350</td>\n",
       "      <td>-8.750068</td>\n",
       "    </tr>\n",
       "    <tr>\n",
       "      <th>2</th>\n",
       "      <td>ABT</td>\n",
       "      <td>Abbott Laboratories</td>\n",
       "      <td>Health Care</td>\n",
       "      <td>Health Care Equipment</td>\n",
       "      <td>44.910000</td>\n",
       "      <td>11.301121</td>\n",
       "      <td>1.273646</td>\n",
       "      <td>21</td>\n",
       "      <td>67</td>\n",
       "      <td>938000000</td>\n",
       "      <td>4423000000</td>\n",
       "      <td>2.94</td>\n",
       "      <td>1.504422e+09</td>\n",
       "      <td>15.275510</td>\n",
       "      <td>-0.394171</td>\n",
       "    </tr>\n",
       "    <tr>\n",
       "      <th>3</th>\n",
       "      <td>ADBE</td>\n",
       "      <td>Adobe Systems Inc</td>\n",
       "      <td>Information Technology</td>\n",
       "      <td>Application Software</td>\n",
       "      <td>93.940002</td>\n",
       "      <td>13.977195</td>\n",
       "      <td>1.357679</td>\n",
       "      <td>9</td>\n",
       "      <td>180</td>\n",
       "      <td>-240840000</td>\n",
       "      <td>629551000</td>\n",
       "      <td>1.26</td>\n",
       "      <td>4.996437e+08</td>\n",
       "      <td>74.555557</td>\n",
       "      <td>4.199651</td>\n",
       "    </tr>\n",
       "    <tr>\n",
       "      <th>4</th>\n",
       "      <td>ADI</td>\n",
       "      <td>Analog Devices, Inc.</td>\n",
       "      <td>Information Technology</td>\n",
       "      <td>Semiconductors</td>\n",
       "      <td>55.320000</td>\n",
       "      <td>-1.827858</td>\n",
       "      <td>1.701169</td>\n",
       "      <td>14</td>\n",
       "      <td>272</td>\n",
       "      <td>315120000</td>\n",
       "      <td>696878000</td>\n",
       "      <td>0.31</td>\n",
       "      <td>2.247994e+09</td>\n",
       "      <td>178.451613</td>\n",
       "      <td>1.059810</td>\n",
       "    </tr>\n",
       "  </tbody>\n",
       "</table>\n",
       "</div>"
      ],
      "text/plain": [
       "  Ticker Symbol                 Security             GICS Sector  \\\n",
       "0           AAL  American Airlines Group             Industrials   \n",
       "1          ABBV                   AbbVie             Health Care   \n",
       "2           ABT      Abbott Laboratories             Health Care   \n",
       "3          ADBE        Adobe Systems Inc  Information Technology   \n",
       "4           ADI     Analog Devices, Inc.  Information Technology   \n",
       "\n",
       "       GICS Sub Industry  Current Price  Price Change  Volatility  ROE  \\\n",
       "0               Airlines      42.349998      9.999995    1.687151  135   \n",
       "1        Pharmaceuticals      59.240002      8.339433    2.197887  130   \n",
       "2  Health Care Equipment      44.910000     11.301121    1.273646   21   \n",
       "3   Application Software      93.940002     13.977195    1.357679    9   \n",
       "4         Semiconductors      55.320000     -1.827858    1.701169   14   \n",
       "\n",
       "   Cash Ratio  Net Cash Flow  Net Income  Earnings Per Share  \\\n",
       "0          51     -604000000  7610000000               11.39   \n",
       "1          77       51000000  5144000000                3.15   \n",
       "2          67      938000000  4423000000                2.94   \n",
       "3         180     -240840000   629551000                1.26   \n",
       "4         272      315120000   696878000                0.31   \n",
       "\n",
       "   Estimated Shares Outstanding   P/E Ratio  P/B Ratio  \n",
       "0                  6.681299e+08    3.718174  -8.784219  \n",
       "1                  1.633016e+09   18.806350  -8.750068  \n",
       "2                  1.504422e+09   15.275510  -0.394171  \n",
       "3                  4.996437e+08   74.555557   4.199651  \n",
       "4                  2.247994e+09  178.451613   1.059810  "
      ]
     },
     "execution_count": 5,
     "metadata": {},
     "output_type": "execute_result"
    },
    {
     "data": {
      "application/javascript": [
       "\n",
       "            setTimeout(function() {\n",
       "                var nbb_cell_id = 5;\n",
       "                var nbb_unformatted_code = \"stk_data.head()\";\n",
       "                var nbb_formatted_code = \"stk_data.head()\";\n",
       "                var nbb_cells = Jupyter.notebook.get_cells();\n",
       "                for (var i = 0; i < nbb_cells.length; ++i) {\n",
       "                    if (nbb_cells[i].input_prompt_number == nbb_cell_id) {\n",
       "                        if (nbb_cells[i].get_text() == nbb_unformatted_code) {\n",
       "                             nbb_cells[i].set_text(nbb_formatted_code);\n",
       "                        }\n",
       "                        break;\n",
       "                    }\n",
       "                }\n",
       "            }, 500);\n",
       "            "
      ],
      "text/plain": [
       "<IPython.core.display.Javascript object>"
      ]
     },
     "metadata": {},
     "output_type": "display_data"
    }
   ],
   "source": [
    "stk_data.head()"
   ]
  },
  {
   "cell_type": "code",
   "execution_count": 6,
   "metadata": {},
   "outputs": [
    {
     "data": {
      "text/html": [
       "<div>\n",
       "<style scoped>\n",
       "    .dataframe tbody tr th:only-of-type {\n",
       "        vertical-align: middle;\n",
       "    }\n",
       "\n",
       "    .dataframe tbody tr th {\n",
       "        vertical-align: top;\n",
       "    }\n",
       "\n",
       "    .dataframe thead th {\n",
       "        text-align: right;\n",
       "    }\n",
       "</style>\n",
       "<table border=\"1\" class=\"dataframe\">\n",
       "  <thead>\n",
       "    <tr style=\"text-align: right;\">\n",
       "      <th></th>\n",
       "      <th>count</th>\n",
       "      <th>mean</th>\n",
       "      <th>std</th>\n",
       "      <th>min</th>\n",
       "      <th>25%</th>\n",
       "      <th>50%</th>\n",
       "      <th>75%</th>\n",
       "      <th>max</th>\n",
       "    </tr>\n",
       "  </thead>\n",
       "  <tbody>\n",
       "    <tr>\n",
       "      <th>Current Price</th>\n",
       "      <td>340.0</td>\n",
       "      <td>8.086234e+01</td>\n",
       "      <td>9.805509e+01</td>\n",
       "      <td>4.500000e+00</td>\n",
       "      <td>3.855500e+01</td>\n",
       "      <td>5.970500e+01</td>\n",
       "      <td>9.288000e+01</td>\n",
       "      <td>1.274950e+03</td>\n",
       "    </tr>\n",
       "    <tr>\n",
       "      <th>Price Change</th>\n",
       "      <td>340.0</td>\n",
       "      <td>4.078194e+00</td>\n",
       "      <td>1.200634e+01</td>\n",
       "      <td>-4.712969e+01</td>\n",
       "      <td>-9.394838e-01</td>\n",
       "      <td>4.819505e+00</td>\n",
       "      <td>1.069549e+01</td>\n",
       "      <td>5.505168e+01</td>\n",
       "    </tr>\n",
       "    <tr>\n",
       "      <th>Volatility</th>\n",
       "      <td>340.0</td>\n",
       "      <td>1.525976e+00</td>\n",
       "      <td>5.917984e-01</td>\n",
       "      <td>7.331632e-01</td>\n",
       "      <td>1.134878e+00</td>\n",
       "      <td>1.385593e+00</td>\n",
       "      <td>1.695549e+00</td>\n",
       "      <td>4.580042e+00</td>\n",
       "    </tr>\n",
       "    <tr>\n",
       "      <th>ROE</th>\n",
       "      <td>340.0</td>\n",
       "      <td>3.959706e+01</td>\n",
       "      <td>9.654754e+01</td>\n",
       "      <td>1.000000e+00</td>\n",
       "      <td>9.750000e+00</td>\n",
       "      <td>1.500000e+01</td>\n",
       "      <td>2.700000e+01</td>\n",
       "      <td>9.170000e+02</td>\n",
       "    </tr>\n",
       "    <tr>\n",
       "      <th>Cash Ratio</th>\n",
       "      <td>340.0</td>\n",
       "      <td>7.002353e+01</td>\n",
       "      <td>9.042133e+01</td>\n",
       "      <td>0.000000e+00</td>\n",
       "      <td>1.800000e+01</td>\n",
       "      <td>4.700000e+01</td>\n",
       "      <td>9.900000e+01</td>\n",
       "      <td>9.580000e+02</td>\n",
       "    </tr>\n",
       "    <tr>\n",
       "      <th>Net Cash Flow</th>\n",
       "      <td>340.0</td>\n",
       "      <td>5.553762e+07</td>\n",
       "      <td>1.946365e+09</td>\n",
       "      <td>-1.120800e+10</td>\n",
       "      <td>-1.939065e+08</td>\n",
       "      <td>2.098000e+06</td>\n",
       "      <td>1.698108e+08</td>\n",
       "      <td>2.076400e+10</td>\n",
       "    </tr>\n",
       "    <tr>\n",
       "      <th>Net Income</th>\n",
       "      <td>340.0</td>\n",
       "      <td>1.494385e+09</td>\n",
       "      <td>3.940150e+09</td>\n",
       "      <td>-2.352800e+10</td>\n",
       "      <td>3.523012e+08</td>\n",
       "      <td>7.073360e+08</td>\n",
       "      <td>1.899000e+09</td>\n",
       "      <td>2.444200e+10</td>\n",
       "    </tr>\n",
       "    <tr>\n",
       "      <th>Earnings Per Share</th>\n",
       "      <td>340.0</td>\n",
       "      <td>2.776662e+00</td>\n",
       "      <td>6.587779e+00</td>\n",
       "      <td>-6.120000e+01</td>\n",
       "      <td>1.557500e+00</td>\n",
       "      <td>2.895000e+00</td>\n",
       "      <td>4.620000e+00</td>\n",
       "      <td>5.009000e+01</td>\n",
       "    </tr>\n",
       "    <tr>\n",
       "      <th>Estimated Shares Outstanding</th>\n",
       "      <td>340.0</td>\n",
       "      <td>5.770283e+08</td>\n",
       "      <td>8.458496e+08</td>\n",
       "      <td>2.767216e+07</td>\n",
       "      <td>1.588482e+08</td>\n",
       "      <td>3.096751e+08</td>\n",
       "      <td>5.731175e+08</td>\n",
       "      <td>6.159292e+09</td>\n",
       "    </tr>\n",
       "    <tr>\n",
       "      <th>P/E Ratio</th>\n",
       "      <td>340.0</td>\n",
       "      <td>3.261256e+01</td>\n",
       "      <td>4.434873e+01</td>\n",
       "      <td>2.935451e+00</td>\n",
       "      <td>1.504465e+01</td>\n",
       "      <td>2.081988e+01</td>\n",
       "      <td>3.176476e+01</td>\n",
       "      <td>5.280391e+02</td>\n",
       "    </tr>\n",
       "    <tr>\n",
       "      <th>P/B Ratio</th>\n",
       "      <td>340.0</td>\n",
       "      <td>-1.718249e+00</td>\n",
       "      <td>1.396691e+01</td>\n",
       "      <td>-7.611908e+01</td>\n",
       "      <td>-4.352056e+00</td>\n",
       "      <td>-1.067170e+00</td>\n",
       "      <td>3.917066e+00</td>\n",
       "      <td>1.290646e+02</td>\n",
       "    </tr>\n",
       "  </tbody>\n",
       "</table>\n",
       "</div>"
      ],
      "text/plain": [
       "                              count          mean           std           min  \\\n",
       "Current Price                 340.0  8.086234e+01  9.805509e+01  4.500000e+00   \n",
       "Price Change                  340.0  4.078194e+00  1.200634e+01 -4.712969e+01   \n",
       "Volatility                    340.0  1.525976e+00  5.917984e-01  7.331632e-01   \n",
       "ROE                           340.0  3.959706e+01  9.654754e+01  1.000000e+00   \n",
       "Cash Ratio                    340.0  7.002353e+01  9.042133e+01  0.000000e+00   \n",
       "Net Cash Flow                 340.0  5.553762e+07  1.946365e+09 -1.120800e+10   \n",
       "Net Income                    340.0  1.494385e+09  3.940150e+09 -2.352800e+10   \n",
       "Earnings Per Share            340.0  2.776662e+00  6.587779e+00 -6.120000e+01   \n",
       "Estimated Shares Outstanding  340.0  5.770283e+08  8.458496e+08  2.767216e+07   \n",
       "P/E Ratio                     340.0  3.261256e+01  4.434873e+01  2.935451e+00   \n",
       "P/B Ratio                     340.0 -1.718249e+00  1.396691e+01 -7.611908e+01   \n",
       "\n",
       "                                       25%           50%           75%  \\\n",
       "Current Price                 3.855500e+01  5.970500e+01  9.288000e+01   \n",
       "Price Change                 -9.394838e-01  4.819505e+00  1.069549e+01   \n",
       "Volatility                    1.134878e+00  1.385593e+00  1.695549e+00   \n",
       "ROE                           9.750000e+00  1.500000e+01  2.700000e+01   \n",
       "Cash Ratio                    1.800000e+01  4.700000e+01  9.900000e+01   \n",
       "Net Cash Flow                -1.939065e+08  2.098000e+06  1.698108e+08   \n",
       "Net Income                    3.523012e+08  7.073360e+08  1.899000e+09   \n",
       "Earnings Per Share            1.557500e+00  2.895000e+00  4.620000e+00   \n",
       "Estimated Shares Outstanding  1.588482e+08  3.096751e+08  5.731175e+08   \n",
       "P/E Ratio                     1.504465e+01  2.081988e+01  3.176476e+01   \n",
       "P/B Ratio                    -4.352056e+00 -1.067170e+00  3.917066e+00   \n",
       "\n",
       "                                       max  \n",
       "Current Price                 1.274950e+03  \n",
       "Price Change                  5.505168e+01  \n",
       "Volatility                    4.580042e+00  \n",
       "ROE                           9.170000e+02  \n",
       "Cash Ratio                    9.580000e+02  \n",
       "Net Cash Flow                 2.076400e+10  \n",
       "Net Income                    2.444200e+10  \n",
       "Earnings Per Share            5.009000e+01  \n",
       "Estimated Shares Outstanding  6.159292e+09  \n",
       "P/E Ratio                     5.280391e+02  \n",
       "P/B Ratio                     1.290646e+02  "
      ]
     },
     "execution_count": 6,
     "metadata": {},
     "output_type": "execute_result"
    },
    {
     "data": {
      "application/javascript": [
       "\n",
       "            setTimeout(function() {\n",
       "                var nbb_cell_id = 6;\n",
       "                var nbb_unformatted_code = \"stk_data.describe().T\";\n",
       "                var nbb_formatted_code = \"stk_data.describe().T\";\n",
       "                var nbb_cells = Jupyter.notebook.get_cells();\n",
       "                for (var i = 0; i < nbb_cells.length; ++i) {\n",
       "                    if (nbb_cells[i].input_prompt_number == nbb_cell_id) {\n",
       "                        if (nbb_cells[i].get_text() == nbb_unformatted_code) {\n",
       "                             nbb_cells[i].set_text(nbb_formatted_code);\n",
       "                        }\n",
       "                        break;\n",
       "                    }\n",
       "                }\n",
       "            }, 500);\n",
       "            "
      ],
      "text/plain": [
       "<IPython.core.display.Javascript object>"
      ]
     },
     "metadata": {},
     "output_type": "display_data"
    }
   ],
   "source": [
    "stk_data.describe().T"
   ]
  },
  {
   "cell_type": "code",
   "execution_count": 7,
   "metadata": {},
   "outputs": [
    {
     "data": {
      "text/plain": [
       "Ticker Symbol                   0\n",
       "Security                        0\n",
       "GICS Sector                     0\n",
       "GICS Sub Industry               0\n",
       "Current Price                   0\n",
       "Price Change                    0\n",
       "Volatility                      0\n",
       "ROE                             0\n",
       "Cash Ratio                      0\n",
       "Net Cash Flow                   0\n",
       "Net Income                      0\n",
       "Earnings Per Share              0\n",
       "Estimated Shares Outstanding    0\n",
       "P/E Ratio                       0\n",
       "P/B Ratio                       0\n",
       "dtype: int64"
      ]
     },
     "execution_count": 7,
     "metadata": {},
     "output_type": "execute_result"
    },
    {
     "data": {
      "application/javascript": [
       "\n",
       "            setTimeout(function() {\n",
       "                var nbb_cell_id = 7;\n",
       "                var nbb_unformatted_code = \"stk_data.isnull().sum()\";\n",
       "                var nbb_formatted_code = \"stk_data.isnull().sum()\";\n",
       "                var nbb_cells = Jupyter.notebook.get_cells();\n",
       "                for (var i = 0; i < nbb_cells.length; ++i) {\n",
       "                    if (nbb_cells[i].input_prompt_number == nbb_cell_id) {\n",
       "                        if (nbb_cells[i].get_text() == nbb_unformatted_code) {\n",
       "                             nbb_cells[i].set_text(nbb_formatted_code);\n",
       "                        }\n",
       "                        break;\n",
       "                    }\n",
       "                }\n",
       "            }, 500);\n",
       "            "
      ],
      "text/plain": [
       "<IPython.core.display.Javascript object>"
      ]
     },
     "metadata": {},
     "output_type": "display_data"
    }
   ],
   "source": [
    "stk_data.isnull().sum()"
   ]
  },
  {
   "cell_type": "markdown",
   "metadata": {
    "id": "__7ciGcIDPyk"
   },
   "source": [
    "## Exploratory Data Analysis (EDA)\n",
    "\n",
    "- EDA is an important part of any project involving data.\n",
    "- It is important to investigate and understand the data better before building a model with it.\n",
    "- A few questions have been mentioned below which will help you approach the analysis in the right manner and generate insights from the data.\n",
    "- A thorough analysis of the data, in addition to the questions mentioned below, should be done."
   ]
  },
  {
   "cell_type": "code",
   "execution_count": 11,
   "metadata": {},
   "outputs": [
    {
     "data": {
      "text/plain": [
       "<AxesSubplot:xlabel='Current Price', ylabel='Count'>"
      ]
     },
     "execution_count": 11,
     "metadata": {},
     "output_type": "execute_result"
    },
    {
     "data": {
      "image/png": "[encoded data removed]",
      "text/plain": [
       "<Figure size 432x288 with 1 Axes>"
      ]
     },
     "metadata": {
      "needs_background": "light"
     },
     "output_type": "display_data"
    },
    {
     "data": {
      "application/javascript": [
       "\n",
       "            setTimeout(function() {\n",
       "                var nbb_cell_id = 11;\n",
       "                var nbb_unformatted_code = \"sns.histplot(stk_data[\\\"Current Price\\\"], kde=True, bins=20)\";\n",
       "                var nbb_formatted_code = \"sns.histplot(stk_data[\\\"Current Price\\\"], kde=True, bins=20)\";\n",
       "                var nbb_cells = Jupyter.notebook.get_cells();\n",
       "                for (var i = 0; i < nbb_cells.length; ++i) {\n",
       "                    if (nbb_cells[i].input_prompt_number == nbb_cell_id) {\n",
       "                        if (nbb_cells[i].get_text() == nbb_unformatted_code) {\n",
       "                             nbb_cells[i].set_text(nbb_formatted_code);\n",
       "                        }\n",
       "                        break;\n",
       "                    }\n",
       "                }\n",
       "            }, 500);\n",
       "            "
      ],
      "text/plain": [
       "<IPython.core.display.Javascript object>"
      ]
     },
     "metadata": {},
     "output_type": "display_data"
    }
   ],
   "source": [
    "# 1 What does the distribution of stock prices look like? \n",
    "# Using Seaborne to make a histplot of the current price column of the data, setting the kde to True and adding 20 bins for readability.\n",
    "sns.histplot(stk_data[\"Current Price\"], kde=True, bins=20)"
   ]
  },
  {
   "cell_type": "code",
   "execution_count": 77,
   "metadata": {},
   "outputs": [
    {
     "data": {
      "text/html": [
       "<div>\n",
       "<style scoped>\n",
       "    .dataframe tbody tr th:only-of-type {\n",
       "        vertical-align: middle;\n",
       "    }\n",
       "\n",
       "    .dataframe tbody tr th {\n",
       "        vertical-align: top;\n",
       "    }\n",
       "\n",
       "    .dataframe thead th {\n",
       "        text-align: right;\n",
       "    }\n",
       "</style>\n",
       "<table border=\"1\" class=\"dataframe\">\n",
       "  <thead>\n",
       "    <tr style=\"text-align: right;\">\n",
       "      <th></th>\n",
       "      <th>SECTOR</th>\n",
       "      <th>CHANGE</th>\n",
       "    </tr>\n",
       "  </thead>\n",
       "  <tbody>\n",
       "    <tr>\n",
       "      <th>0</th>\n",
       "      <td>Consumer Discretionary</td>\n",
       "      <td>5.846093</td>\n",
       "    </tr>\n",
       "    <tr>\n",
       "      <th>1</th>\n",
       "      <td>Consumer Staples</td>\n",
       "      <td>8.684750</td>\n",
       "    </tr>\n",
       "    <tr>\n",
       "      <th>2</th>\n",
       "      <td>Energy</td>\n",
       "      <td>-10.228289</td>\n",
       "    </tr>\n",
       "    <tr>\n",
       "      <th>3</th>\n",
       "      <td>Financials</td>\n",
       "      <td>3.865406</td>\n",
       "    </tr>\n",
       "    <tr>\n",
       "      <th>4</th>\n",
       "      <td>Health Care</td>\n",
       "      <td>9.585652</td>\n",
       "    </tr>\n",
       "    <tr>\n",
       "      <th>5</th>\n",
       "      <td>Industrials</td>\n",
       "      <td>2.833127</td>\n",
       "    </tr>\n",
       "    <tr>\n",
       "      <th>6</th>\n",
       "      <td>Information Technology</td>\n",
       "      <td>7.217476</td>\n",
       "    </tr>\n",
       "    <tr>\n",
       "      <th>7</th>\n",
       "      <td>Materials</td>\n",
       "      <td>5.589738</td>\n",
       "    </tr>\n",
       "    <tr>\n",
       "      <th>8</th>\n",
       "      <td>Real Estate</td>\n",
       "      <td>6.205548</td>\n",
       "    </tr>\n",
       "    <tr>\n",
       "      <th>9</th>\n",
       "      <td>Telecommunications Services</td>\n",
       "      <td>6.956980</td>\n",
       "    </tr>\n",
       "    <tr>\n",
       "      <th>10</th>\n",
       "      <td>Utilities</td>\n",
       "      <td>0.803657</td>\n",
       "    </tr>\n",
       "  </tbody>\n",
       "</table>\n",
       "</div>"
      ],
      "text/plain": [
       "                         SECTOR     CHANGE\n",
       "0        Consumer Discretionary   5.846093\n",
       "1              Consumer Staples   8.684750\n",
       "2                        Energy -10.228289\n",
       "3                    Financials   3.865406\n",
       "4                   Health Care   9.585652\n",
       "5                   Industrials   2.833127\n",
       "6        Information Technology   7.217476\n",
       "7                     Materials   5.589738\n",
       "8                   Real Estate   6.205548\n",
       "9   Telecommunications Services   6.956980\n",
       "10                    Utilities   0.803657"
      ]
     },
     "execution_count": 77,
     "metadata": {},
     "output_type": "execute_result"
    },
    {
     "data": {
      "application/javascript": [
       "\n",
       "            setTimeout(function() {\n",
       "                var nbb_cell_id = 77;\n",
       "                var nbb_unformatted_code = \"# 2 The stocks of which economic sector have seen the maximum price increase on average?\\n# get the total amount of price change per sector and place into new DF grouped by sectors.\\nstk_group = stk_data.groupby(\\\"GICS Sector\\\").sum(\\\"Price Change\\\")\\n\\n# adding a new column to hold the counts of each sector\\nstk_group[\\\"counts\\\"] = stk_data.value_counts(\\\"GICS Sector\\\")\\n\\n# divide the price change by counts to get the average price change for each sector.\\nstk_group[\\\"AVG_PRICE_CHANGE\\\"] = stk_group[\\\"Price Change\\\"] / stk_group[\\\"counts\\\"]\\n\\n# place the two Columns I want in new DataFrame\\nstk_df = pd.DataFrame(\\n    {\\\"SECTOR\\\": list(stk_group.index), \\\"CHANGE\\\": list(stk_group[\\\"AVG_PRICE_CHANGE\\\"])}\\n)\\nstk_df\";\n",
       "                var nbb_formatted_code = \"# 2 The stocks of which economic sector have seen the maximum price increase on average?\\n# get the total amount of price change per sector and place into new DF grouped by sectors.\\nstk_group = stk_data.groupby(\\\"GICS Sector\\\").sum(\\\"Price Change\\\")\\n\\n# adding a new column to hold the counts of each sector\\nstk_group[\\\"counts\\\"] = stk_data.value_counts(\\\"GICS Sector\\\")\\n\\n# divide the price change by counts to get the average price change for each sector.\\nstk_group[\\\"AVG_PRICE_CHANGE\\\"] = stk_group[\\\"Price Change\\\"] / stk_group[\\\"counts\\\"]\\n\\n# place the two Columns I want in new DataFrame\\nstk_df = pd.DataFrame(\\n    {\\\"SECTOR\\\": list(stk_group.index), \\\"CHANGE\\\": list(stk_group[\\\"AVG_PRICE_CHANGE\\\"])}\\n)\\nstk_df\";\n",
       "                var nbb_cells = Jupyter.notebook.get_cells();\n",
       "                for (var i = 0; i < nbb_cells.length; ++i) {\n",
       "                    if (nbb_cells[i].input_prompt_number == nbb_cell_id) {\n",
       "                        if (nbb_cells[i].get_text() == nbb_unformatted_code) {\n",
       "                             nbb_cells[i].set_text(nbb_formatted_code);\n",
       "                        }\n",
       "                        break;\n",
       "                    }\n",
       "                }\n",
       "            }, 500);\n",
       "            "
      ],
      "text/plain": [
       "<IPython.core.display.Javascript object>"
      ]
     },
     "metadata": {},
     "output_type": "display_data"
    }
   ],
   "source": [
    "# 2 The stocks of which economic sector have seen the maximum price increase on average?\n",
    "# get the total amount of price change per sector and place into new DF grouped by sectors.\n",
    "stk_group = stk_data.groupby(\"GICS Sector\").sum(\"Price Change\")\n",
    "\n",
    "# adding a new column to hold the counts of each sector\n",
    "stk_group[\"counts\"] = stk_data.value_counts(\"GICS Sector\")\n",
    "\n",
    "# divide the price change by counts to get the average price change for each sector.\n",
    "stk_group[\"AVG_PRICE_CHANGE\"] = stk_group[\"Price Change\"] / stk_group[\"counts\"]\n",
    "\n",
    "# place the two Columns I want in new DataFrame\n",
    "stk_df = pd.DataFrame(\n",
    "    {\"SECTOR\": list(stk_group.index), \"CHANGE\": list(stk_group[\"AVG_PRICE_CHANGE\"])}\n",
    ")\n",
    "stk_df"
   ]
  },
  {
   "cell_type": "code",
   "execution_count": 87,
   "metadata": {},
   "outputs": [
    {
     "data": {
      "text/plain": [
       "Text(0.5, 1.0, 'Average Change in Share Price in Dollars')"
      ]
     },
     "execution_count": 87,
     "metadata": {},
     "output_type": "execute_result"
    },
    {
     "data": {
      "image/png": "[encoded data removed]",
      "text/plain": [
       "<Figure size 432x288 with 1 Axes>"
      ]
     },
     "metadata": {},
     "output_type": "display_data"
    },
    {
     "data": {
      "application/javascript": [
       "\n",
       "            setTimeout(function() {\n",
       "                var nbb_cell_id = 87;\n",
       "                var nbb_unformatted_code = \"sns.set_theme(style=\\\"whitegrid\\\")\\nsns.barplot(y=\\\"SECTOR\\\", x=\\\"CHANGE\\\", data=stk_df)\\nplt.title('Average Change in Share Price in Dollars')\";\n",
       "                var nbb_formatted_code = \"sns.set_theme(style=\\\"whitegrid\\\")\\nsns.barplot(y=\\\"SECTOR\\\", x=\\\"CHANGE\\\", data=stk_df)\\nplt.title(\\\"Average Change in Share Price in Dollars\\\")\";\n",
       "                var nbb_cells = Jupyter.notebook.get_cells();\n",
       "                for (var i = 0; i < nbb_cells.length; ++i) {\n",
       "                    if (nbb_cells[i].input_prompt_number == nbb_cell_id) {\n",
       "                        if (nbb_cells[i].get_text() == nbb_unformatted_code) {\n",
       "                             nbb_cells[i].set_text(nbb_formatted_code);\n",
       "                        }\n",
       "                        break;\n",
       "                    }\n",
       "                }\n",
       "            }, 500);\n",
       "            "
      ],
      "text/plain": [
       "<IPython.core.display.Javascript object>"
      ]
     },
     "metadata": {},
     "output_type": "display_data"
    }
   ],
   "source": [
    "# Build a data visualization\n",
    "sns.set_theme(style=\"whitegrid\")\n",
    "sns.barplot(y=\"SECTOR\", x=\"CHANGE\", data=stk_df)\n",
    "plt.title(\"Average Change in Share Price in Dollars\")"
   ]
  },
  {
   "cell_type": "code",
   "execution_count": 90,
   "metadata": {},
   "outputs": [
    {
     "data": {
      "image/png": "[encoded data removed]",
      "text/plain": [
       "<Figure size 1080x720 with 2 Axes>"
      ]
     },
     "metadata": {},
     "output_type": "display_data"
    },
    {
     "data": {
      "application/javascript": [
       "\n",
       "            setTimeout(function() {\n",
       "                var nbb_cell_id = 90;\n",
       "                var nbb_unformatted_code = \"# How are the different variables correlated with each other?\\ncols_list = stk_data.select_dtypes(include=np.number).columns.tolist()\\n\\nplt.figure(figsize=(15, 10))\\nsns.heatmap(\\n    stk_data[cols_list].corr(), annot=True, vmin=-1, vmax=1, fmt=\\\".2f\\\", cmap=\\\"Spectral\\\"\\n)\\nplt.show()\";\n",
       "                var nbb_formatted_code = \"# How are the different variables correlated with each other?\\ncols_list = stk_data.select_dtypes(include=np.number).columns.tolist()\\n\\nplt.figure(figsize=(15, 10))\\nsns.heatmap(\\n    stk_data[cols_list].corr(), annot=True, vmin=-1, vmax=1, fmt=\\\".2f\\\", cmap=\\\"Spectral\\\"\\n)\\nplt.show()\";\n",
       "                var nbb_cells = Jupyter.notebook.get_cells();\n",
       "                for (var i = 0; i < nbb_cells.length; ++i) {\n",
       "                    if (nbb_cells[i].input_prompt_number == nbb_cell_id) {\n",
       "                        if (nbb_cells[i].get_text() == nbb_unformatted_code) {\n",
       "                             nbb_cells[i].set_text(nbb_formatted_code);\n",
       "                        }\n",
       "                        break;\n",
       "                    }\n",
       "                }\n",
       "            }, 500);\n",
       "            "
      ],
      "text/plain": [
       "<IPython.core.display.Javascript object>"
      ]
     },
     "metadata": {},
     "output_type": "display_data"
    }
   ],
   "source": [
    "# How are the different variables correlated with each other?\n",
    "# putting the numeric columns together \n",
    "cols_list = stk_data.select_dtypes(include=np.number).columns.tolist()\n",
    "\n",
    "plt.figure(figsize=(15, 10))\n",
    "sns.heatmap(\n",
    "    stk_data[cols_list].corr(), annot=True, vmin=-1, vmax=1, fmt=\".2f\", cmap=\"Spectral\"\n",
    ")\n",
    "plt.show()"
   ]
  },
  {
   "cell_type": "code",
   "execution_count": 92,
   "metadata": {},
   "outputs": [
    {
     "data": {
      "text/html": [
       "<div>\n",
       "<style scoped>\n",
       "    .dataframe tbody tr th:only-of-type {\n",
       "        vertical-align: middle;\n",
       "    }\n",
       "\n",
       "    .dataframe tbody tr th {\n",
       "        vertical-align: top;\n",
       "    }\n",
       "\n",
       "    .dataframe thead th {\n",
       "        text-align: right;\n",
       "    }\n",
       "</style>\n",
       "<table border=\"1\" class=\"dataframe\">\n",
       "  <thead>\n",
       "    <tr style=\"text-align: right;\">\n",
       "      <th></th>\n",
       "      <th>SECTOR</th>\n",
       "      <th>CASH</th>\n",
       "    </tr>\n",
       "  </thead>\n",
       "  <tbody>\n",
       "    <tr>\n",
       "      <th>0</th>\n",
       "      <td>Consumer Discretionary</td>\n",
       "      <td>49.575000</td>\n",
       "    </tr>\n",
       "    <tr>\n",
       "      <th>1</th>\n",
       "      <td>Consumer Staples</td>\n",
       "      <td>70.947368</td>\n",
       "    </tr>\n",
       "    <tr>\n",
       "      <th>2</th>\n",
       "      <td>Energy</td>\n",
       "      <td>51.133333</td>\n",
       "    </tr>\n",
       "    <tr>\n",
       "      <th>3</th>\n",
       "      <td>Financials</td>\n",
       "      <td>98.591837</td>\n",
       "    </tr>\n",
       "    <tr>\n",
       "      <th>4</th>\n",
       "      <td>Health Care</td>\n",
       "      <td>103.775000</td>\n",
       "    </tr>\n",
       "    <tr>\n",
       "      <th>5</th>\n",
       "      <td>Industrials</td>\n",
       "      <td>36.188679</td>\n",
       "    </tr>\n",
       "    <tr>\n",
       "      <th>6</th>\n",
       "      <td>Information Technology</td>\n",
       "      <td>149.818182</td>\n",
       "    </tr>\n",
       "    <tr>\n",
       "      <th>7</th>\n",
       "      <td>Materials</td>\n",
       "      <td>41.700000</td>\n",
       "    </tr>\n",
       "    <tr>\n",
       "      <th>8</th>\n",
       "      <td>Real Estate</td>\n",
       "      <td>50.111111</td>\n",
       "    </tr>\n",
       "    <tr>\n",
       "      <th>9</th>\n",
       "      <td>Telecommunications Services</td>\n",
       "      <td>117.000000</td>\n",
       "    </tr>\n",
       "    <tr>\n",
       "      <th>10</th>\n",
       "      <td>Utilities</td>\n",
       "      <td>13.625000</td>\n",
       "    </tr>\n",
       "  </tbody>\n",
       "</table>\n",
       "</div>"
      ],
      "text/plain": [
       "                         SECTOR        CASH\n",
       "0        Consumer Discretionary   49.575000\n",
       "1              Consumer Staples   70.947368\n",
       "2                        Energy   51.133333\n",
       "3                    Financials   98.591837\n",
       "4                   Health Care  103.775000\n",
       "5                   Industrials   36.188679\n",
       "6        Information Technology  149.818182\n",
       "7                     Materials   41.700000\n",
       "8                   Real Estate   50.111111\n",
       "9   Telecommunications Services  117.000000\n",
       "10                    Utilities   13.625000"
      ]
     },
     "execution_count": 92,
     "metadata": {},
     "output_type": "execute_result"
    },
    {
     "data": {
      "application/javascript": [
       "\n",
       "            setTimeout(function() {\n",
       "                var nbb_cell_id = 92;\n",
       "                var nbb_unformatted_code = \"#4 Cash ratio provides a measure of a company's ability to cover its short-term obligations using only cash and cash equivalents. How does the average cash ratio vary across economic sectors?\\n# get the total amount of price change per sector and place into new DF grouped by sectors.\\nstk_ratio = stk_data.groupby(\\\"GICS Sector\\\").sum(\\\"Cash Ratio\\\")\\n\\n# adding a new column to hold the counts of each sector\\nstk_ratio[\\\"counts\\\"] = stk_data.value_counts(\\\"GICS Sector\\\")\\n\\n# divide the price change by counts to get the average price change for each sector.\\nstk_ratio[\\\"AVG_CASH\\\"] = stk_ratio[\\\"Cash Ratio\\\"] / stk_group[\\\"counts\\\"]\\n\\n# place the two Columns I want in new DataFrame\\nratio_df = pd.DataFrame(\\n    {\\\"SECTOR\\\": list(stk_ratio.index), \\\"CASH\\\": list(stk_ratio[\\\"AVG_CASH\\\"])}\\n)\\nratio_df\";\n",
       "                var nbb_formatted_code = \"# 4 Cash ratio provides a measure of a company's ability to cover its short-term obligations using only cash and cash equivalents. How does the average cash ratio vary across economic sectors?\\n# get the total amount of price change per sector and place into new DF grouped by sectors.\\nstk_ratio = stk_data.groupby(\\\"GICS Sector\\\").sum(\\\"Cash Ratio\\\")\\n\\n# adding a new column to hold the counts of each sector\\nstk_ratio[\\\"counts\\\"] = stk_data.value_counts(\\\"GICS Sector\\\")\\n\\n# divide the price change by counts to get the average price change for each sector.\\nstk_ratio[\\\"AVG_CASH\\\"] = stk_ratio[\\\"Cash Ratio\\\"] / stk_group[\\\"counts\\\"]\\n\\n# place the two Columns I want in new DataFrame\\nratio_df = pd.DataFrame(\\n    {\\\"SECTOR\\\": list(stk_ratio.index), \\\"CASH\\\": list(stk_ratio[\\\"AVG_CASH\\\"])}\\n)\\nratio_df\";\n",
       "                var nbb_cells = Jupyter.notebook.get_cells();\n",
       "                for (var i = 0; i < nbb_cells.length; ++i) {\n",
       "                    if (nbb_cells[i].input_prompt_number == nbb_cell_id) {\n",
       "                        if (nbb_cells[i].get_text() == nbb_unformatted_code) {\n",
       "                             nbb_cells[i].set_text(nbb_formatted_code);\n",
       "                        }\n",
       "                        break;\n",
       "                    }\n",
       "                }\n",
       "            }, 500);\n",
       "            "
      ],
      "text/plain": [
       "<IPython.core.display.Javascript object>"
      ]
     },
     "metadata": {},
     "output_type": "display_data"
    }
   ],
   "source": [
    "#4 How does the average cash ratio vary across economic sectors?\n",
    "# get the total amount of price change per sector and place into new DF grouped by sectors.\n",
    "stk_ratio = stk_data.groupby(\"GICS Sector\").sum(\"Cash Ratio\")\n",
    "\n",
    "# adding a new column to hold the counts of each sector\n",
    "stk_ratio[\"counts\"] = stk_data.value_counts(\"GICS Sector\")\n",
    "\n",
    "# divide the price change by counts to get the average price change for each sector.\n",
    "stk_ratio[\"AVG_CASH\"] = stk_ratio[\"Cash Ratio\"] / stk_group[\"counts\"]\n",
    "\n",
    "# place the two Columns I want in new DataFrame\n",
    "ratio_df = pd.DataFrame(\n",
    "    {\"SECTOR\": list(stk_ratio.index), \"CASH\": list(stk_ratio[\"AVG_CASH\"])}\n",
    ")\n",
    "ratio_df\n"
   ]
  },
  {
   "cell_type": "code",
   "execution_count": 97,
   "metadata": {},
   "outputs": [
    {
     "data": {
      "text/plain": [
       "Text(0.5, 0, 'Average Cash Ratio')"
      ]
     },
     "execution_count": 97,
     "metadata": {},
     "output_type": "execute_result"
    },
    {
     "data": {
      "image/png": "[encoded data removed]",
      "text/plain": [
       "<Figure size 432x288 with 1 Axes>"
      ]
     },
     "metadata": {},
     "output_type": "display_data"
    },
    {
     "data": {
      "application/javascript": [
       "\n",
       "            setTimeout(function() {\n",
       "                var nbb_cell_id = 97;\n",
       "                var nbb_unformatted_code = \"# Build a data visualization\\nsns.set_theme(style=\\\"whitegrid\\\")\\nsns.barplot(y=\\\"SECTOR\\\", x=\\\"CASH\\\", data=ratio_df)\\nplt.title(\\\"Average Cash Ratio by Sector\\\")\\nplt.xlabel('Average Cash Ratio')\";\n",
       "                var nbb_formatted_code = \"# Build a data visualization\\nsns.set_theme(style=\\\"whitegrid\\\")\\nsns.barplot(y=\\\"SECTOR\\\", x=\\\"CASH\\\", data=ratio_df)\\nplt.title(\\\"Average Cash Ratio by Sector\\\")\\nplt.xlabel(\\\"Average Cash Ratio\\\")\";\n",
       "                var nbb_cells = Jupyter.notebook.get_cells();\n",
       "                for (var i = 0; i < nbb_cells.length; ++i) {\n",
       "                    if (nbb_cells[i].input_prompt_number == nbb_cell_id) {\n",
       "                        if (nbb_cells[i].get_text() == nbb_unformatted_code) {\n",
       "                             nbb_cells[i].set_text(nbb_formatted_code);\n",
       "                        }\n",
       "                        break;\n",
       "                    }\n",
       "                }\n",
       "            }, 500);\n",
       "            "
      ],
      "text/plain": [
       "<IPython.core.display.Javascript object>"
      ]
     },
     "metadata": {},
     "output_type": "display_data"
    }
   ],
   "source": [
    "# Build a data visualization\n",
    "sns.set_theme(style=\"whitegrid\")\n",
    "sns.barplot(y=\"SECTOR\", x=\"CASH\", data=ratio_df)\n",
    "plt.title(\"Average Cash Ratio by Sector\")\n",
    "plt.xlabel(\"Average Cash Ratio\")"
   ]
  },
  {
   "cell_type": "code",
   "execution_count": 100,
   "metadata": {},
   "outputs": [
    {
     "data": {
      "text/html": [
       "<div>\n",
       "<style scoped>\n",
       "    .dataframe tbody tr th:only-of-type {\n",
       "        vertical-align: middle;\n",
       "    }\n",
       "\n",
       "    .dataframe tbody tr th {\n",
       "        vertical-align: top;\n",
       "    }\n",
       "\n",
       "    .dataframe thead th {\n",
       "        text-align: right;\n",
       "    }\n",
       "</style>\n",
       "<table border=\"1\" class=\"dataframe\">\n",
       "  <thead>\n",
       "    <tr style=\"text-align: right;\">\n",
       "      <th></th>\n",
       "      <th>SECTOR</th>\n",
       "      <th>PE RATIO</th>\n",
       "    </tr>\n",
       "  </thead>\n",
       "  <tbody>\n",
       "    <tr>\n",
       "      <th>0</th>\n",
       "      <td>Consumer Discretionary</td>\n",
       "      <td>35.211613</td>\n",
       "    </tr>\n",
       "    <tr>\n",
       "      <th>1</th>\n",
       "      <td>Consumer Staples</td>\n",
       "      <td>25.521195</td>\n",
       "    </tr>\n",
       "    <tr>\n",
       "      <th>2</th>\n",
       "      <td>Energy</td>\n",
       "      <td>72.897709</td>\n",
       "    </tr>\n",
       "    <tr>\n",
       "      <th>3</th>\n",
       "      <td>Financials</td>\n",
       "      <td>16.023151</td>\n",
       "    </tr>\n",
       "    <tr>\n",
       "      <th>4</th>\n",
       "      <td>Health Care</td>\n",
       "      <td>41.135272</td>\n",
       "    </tr>\n",
       "    <tr>\n",
       "      <th>5</th>\n",
       "      <td>Industrials</td>\n",
       "      <td>18.259380</td>\n",
       "    </tr>\n",
       "    <tr>\n",
       "      <th>6</th>\n",
       "      <td>Information Technology</td>\n",
       "      <td>43.782546</td>\n",
       "    </tr>\n",
       "    <tr>\n",
       "      <th>7</th>\n",
       "      <td>Materials</td>\n",
       "      <td>24.585352</td>\n",
       "    </tr>\n",
       "    <tr>\n",
       "      <th>8</th>\n",
       "      <td>Real Estate</td>\n",
       "      <td>43.065585</td>\n",
       "    </tr>\n",
       "    <tr>\n",
       "      <th>9</th>\n",
       "      <td>Telecommunications Services</td>\n",
       "      <td>12.222578</td>\n",
       "    </tr>\n",
       "    <tr>\n",
       "      <th>10</th>\n",
       "      <td>Utilities</td>\n",
       "      <td>18.719412</td>\n",
       "    </tr>\n",
       "  </tbody>\n",
       "</table>\n",
       "</div>"
      ],
      "text/plain": [
       "                         SECTOR   PE RATIO\n",
       "0        Consumer Discretionary  35.211613\n",
       "1              Consumer Staples  25.521195\n",
       "2                        Energy  72.897709\n",
       "3                    Financials  16.023151\n",
       "4                   Health Care  41.135272\n",
       "5                   Industrials  18.259380\n",
       "6        Information Technology  43.782546\n",
       "7                     Materials  24.585352\n",
       "8                   Real Estate  43.065585\n",
       "9   Telecommunications Services  12.222578\n",
       "10                    Utilities  18.719412"
      ]
     },
     "execution_count": 100,
     "metadata": {},
     "output_type": "execute_result"
    },
    {
     "data": {
      "application/javascript": [
       "\n",
       "            setTimeout(function() {\n",
       "                var nbb_cell_id = 100;\n",
       "                var nbb_unformatted_code = \"# 5 How does the P/E ratio vary, on average, across economic sectors?\\n\\n# 4 How does the average cash ratio vary across economic sectors?\\n# get the total amount of price change per sector and place into new DF grouped by sectors.\\nstk_pe = stk_data.groupby(\\\"GICS Sector\\\").sum(\\\"P/E Ratio\\\")\\n\\n# adding a new column to hold the counts of each sector\\nstk_pe[\\\"counts\\\"] = stk_data.value_counts(\\\"GICS Sector\\\")\\n\\n# divide the price change by counts to get the average price change for each sector.\\nstk_pe[\\\"AVG_PE_RATIO\\\"] = stk_pe[\\\"P/E Ratio\\\"] / stk_group[\\\"counts\\\"]\\n\\n# place the two Columns I want in new DataFrame\\npe_df = pd.DataFrame(\\n    {\\\"SECTOR\\\": list(stk_pe.index), \\\"PE RATIO\\\": list(stk_pe[\\\"AVG_PE_RATIO\\\"])}\\n)\\npe_df\";\n",
       "                var nbb_formatted_code = \"# 5 How does the P/E ratio vary, on average, across economic sectors?\\n\\n# 4 How does the average cash ratio vary across economic sectors?\\n# get the total amount of price change per sector and place into new DF grouped by sectors.\\nstk_pe = stk_data.groupby(\\\"GICS Sector\\\").sum(\\\"P/E Ratio\\\")\\n\\n# adding a new column to hold the counts of each sector\\nstk_pe[\\\"counts\\\"] = stk_data.value_counts(\\\"GICS Sector\\\")\\n\\n# divide the price change by counts to get the average price change for each sector.\\nstk_pe[\\\"AVG_PE_RATIO\\\"] = stk_pe[\\\"P/E Ratio\\\"] / stk_group[\\\"counts\\\"]\\n\\n# place the two Columns I want in new DataFrame\\npe_df = pd.DataFrame(\\n    {\\\"SECTOR\\\": list(stk_pe.index), \\\"PE RATIO\\\": list(stk_pe[\\\"AVG_PE_RATIO\\\"])}\\n)\\npe_df\";\n",
       "                var nbb_cells = Jupyter.notebook.get_cells();\n",
       "                for (var i = 0; i < nbb_cells.length; ++i) {\n",
       "                    if (nbb_cells[i].input_prompt_number == nbb_cell_id) {\n",
       "                        if (nbb_cells[i].get_text() == nbb_unformatted_code) {\n",
       "                             nbb_cells[i].set_text(nbb_formatted_code);\n",
       "                        }\n",
       "                        break;\n",
       "                    }\n",
       "                }\n",
       "            }, 500);\n",
       "            "
      ],
      "text/plain": [
       "<IPython.core.display.Javascript object>"
      ]
     },
     "metadata": {},
     "output_type": "display_data"
    }
   ],
   "source": [
    "# 5 How does the P/E ratio vary, on average, across economic sectors?\n",
    "\n",
    "# 4 How does the average cash ratio vary across economic sectors?\n",
    "# get the total amount of pe ratio per sector and place into new DF grouped by sectors.\n",
    "stk_pe = stk_data.groupby(\"GICS Sector\").sum(\"P/E Ratio\")\n",
    "\n",
    "# adding a new column to hold the counts of each sector\n",
    "stk_pe[\"counts\"] = stk_data.value_counts(\"GICS Sector\")\n",
    "\n",
    "# divide the pe ratio by counts to get the average change for each sector.\n",
    "stk_pe[\"AVG_PE_RATIO\"] = stk_pe[\"P/E Ratio\"] / stk_group[\"counts\"]\n",
    "\n",
    "# place the two Columns I want in new DataFrame\n",
    "pe_df = pd.DataFrame(\n",
    "    {\"SECTOR\": list(stk_pe.index), \"PE RATIO\": list(stk_pe[\"AVG_PE_RATIO\"])}\n",
    ")\n",
    "pe_df"
   ]
  },
  {
   "cell_type": "code",
   "execution_count": 102,
   "metadata": {},
   "outputs": [
    {
     "data": {
      "text/plain": [
       "Text(0.5, 0, 'Average PE Ratio')"
      ]
     },
     "execution_count": 102,
     "metadata": {},
     "output_type": "execute_result"
    },
    {
     "data": {
      "image/png": "[encoded data removed]",
      "text/plain": [
       "<Figure size 432x288 with 1 Axes>"
      ]
     },
     "metadata": {},
     "output_type": "display_data"
    },
    {
     "data": {
      "application/javascript": [
       "\n",
       "            setTimeout(function() {\n",
       "                var nbb_cell_id = 102;\n",
       "                var nbb_unformatted_code = \"# Build a data visualization\\nsns.set_theme(style=\\\"whitegrid\\\")\\nsns.barplot(y=\\\"SECTOR\\\", x=\\\"PE RATIO\\\", data=pe_df)\\nplt.title(\\\"Average PE Ratio by Sector\\\")\\nplt.xlabel(\\\"Average PE Ratio\\\")\";\n",
       "                var nbb_formatted_code = \"# Build a data visualization\\nsns.set_theme(style=\\\"whitegrid\\\")\\nsns.barplot(y=\\\"SECTOR\\\", x=\\\"PE RATIO\\\", data=pe_df)\\nplt.title(\\\"Average PE Ratio by Sector\\\")\\nplt.xlabel(\\\"Average PE Ratio\\\")\";\n",
       "                var nbb_cells = Jupyter.notebook.get_cells();\n",
       "                for (var i = 0; i < nbb_cells.length; ++i) {\n",
       "                    if (nbb_cells[i].input_prompt_number == nbb_cell_id) {\n",
       "                        if (nbb_cells[i].get_text() == nbb_unformatted_code) {\n",
       "                             nbb_cells[i].set_text(nbb_formatted_code);\n",
       "                        }\n",
       "                        break;\n",
       "                    }\n",
       "                }\n",
       "            }, 500);\n",
       "            "
      ],
      "text/plain": [
       "<IPython.core.display.Javascript object>"
      ]
     },
     "metadata": {},
     "output_type": "display_data"
    }
   ],
   "source": [
    "# Build a data visualization\n",
    "sns.set_theme(style=\"whitegrid\")\n",
    "sns.barplot(y=\"SECTOR\", x=\"PE RATIO\", data=pe_df)\n",
    "plt.title(\"Average PE Ratio by Sector\")\n",
    "plt.xlabel(\"Average PE Ratio\")"
   ]
  },
  {
   "cell_type": "markdown",
   "metadata": {
    "id": "oEyqzdJBb0jU"
   },
   "source": [
    "**Questions**:\n",
    "\n",
    "1. What does the distribution of stock prices look like?\n",
    "2. The stocks of which economic sector have seen the maximum price increase on average?\n",
    "3. How are the different variables correlated with each other?\n",
    "4. Cash ratio provides a measure of a company's ability to cover its short-term obligations using only cash and cash equivalents. How does the average cash ratio vary across economic sectors?\n",
    "5. P/E ratios can help determine the relative value of a company's shares as they signify the amount of money an investor is willing to invest in a single share of a company per dollar of its earnings. How does the P/E ratio vary, on average, across economic sectors?"
   ]
  },
  {
   "cell_type": "code",
   "execution_count": null,
   "metadata": {
    "id": "cN1lyueHttwW"
   },
   "outputs": [],
   "source": []
  },
  {
   "cell_type": "markdown",
   "metadata": {
    "id": "pVn5toJ7MKte"
   },
   "source": [
    "## Data Preprocessing\n",
    "\n",
    "- Duplicate value check\n",
    "- Missing value treatment\n",
    "- Outlier check\n",
    "- Feature engineering (if needed)\n",
    "- Any other preprocessing steps (if needed)"
   ]
  },
  {
   "cell_type": "code",
   "execution_count": null,
   "metadata": {
    "id": "zUi6E9EUMKth"
   },
   "outputs": [],
   "source": []
  },
  {
   "cell_type": "markdown",
   "metadata": {
    "id": "KNzFis7eEaXj"
   },
   "source": [
    "## EDA\n",
    "\n",
    "- It is a good idea to explore the data once again after manipulating it."
   ]
  },
  {
   "cell_type": "code",
   "execution_count": null,
   "metadata": {
    "id": "4lcDTGi9EZ1M"
   },
   "outputs": [],
   "source": []
  },
  {
   "cell_type": "markdown",
   "metadata": {},
   "source": [
    "## K-means Clustering"
   ]
  },
  {
   "cell_type": "code",
   "execution_count": null,
   "metadata": {
    "id": "ZNRiMg0wMKth"
   },
   "outputs": [],
   "source": []
  },
  {
   "cell_type": "markdown",
   "metadata": {},
   "source": [
    "## Hierarchical Clustering"
   ]
  },
  {
   "cell_type": "code",
   "execution_count": null,
   "metadata": {
    "id": "k3e6gzxdMKti"
   },
   "outputs": [],
   "source": []
  },
  {
   "cell_type": "markdown",
   "metadata": {
    "id": "a9GxSQf-qH8e"
   },
   "source": [
    "## K-means vs Hierarchical Clustering"
   ]
  },
  {
   "cell_type": "markdown",
   "metadata": {
    "id": "naX-iXItqH-b"
   },
   "source": [
    "You compare several things, like:\n",
    "- Which clustering technique took less time for execution?\n",
    "- Which clustering technique gave you more distinct clusters, or are they the same?\n",
    "- How many observations are there in the similar clusters of both algorithms?\n",
    "- How many clusters are obtained as the appropriate number of clusters from both algorithms?\n",
    "\n",
    "You can also mention any differences or similarities you obtained in the cluster profiles from both the clustering techniques."
   ]
  },
  {
   "cell_type": "markdown",
   "metadata": {
    "id": "2BkZh6eHluZK"
   },
   "source": [
    "## Actionable Insights and Recommendations\n",
    "\n",
    "- "
   ]
  }
 ],
 "metadata": {
  "colab": {
   "collapsed_sections": [],
   "name": "SLF_Project_Learner_Notebook.ipynb",
   "provenance": []
  },
  "hide_input": false,
  "kernelspec": {
   "display_name": "Python 3",
   "language": "python",
   "name": "python3"
  },
  "language_info": {
   "codemirror_mode": {
    "name": "ipython",
    "version": 3
   },
   "file_extension": ".py",
   "mimetype": "text/x-python",
   "name": "python",
   "nbconvert_exporter": "python",
   "pygments_lexer": "ipython3",
   "version": "3.8.8"
  },
  "latex_envs": {
   "LaTeX_envs_menu_present": true,
   "autoclose": false,
   "autocomplete": true,
   "bibliofile": "biblio.bib",
   "cite_by": "apalike",
   "current_citInitial": 1,
   "eqLabelWithNumbers": true,
   "eqNumInitial": 1,
   "hotkeys": {
    "equation": "Ctrl-E",
    "itemize": "Ctrl-I"
   },
   "labels_anchors": false,
   "latex_user_defs": false,
   "report_style_numbering": false,
   "user_envs_cfg": false
  },
  "varInspector": {
   "cols": {
    "lenName": 16,
    "lenType": 16,
    "lenVar": 40
   },
   "kernels_config": {
    "python": {
     "delete_cmd_postfix": "",
     "delete_cmd_prefix": "del ",
     "library": "var_list.py",
     "varRefreshCmd": "print(var_dic_list())"
    },
    "r": {
     "delete_cmd_postfix": ") ",
     "delete_cmd_prefix": "rm(",
     "library": "var_list.r",
     "varRefreshCmd": "cat(var_dic_list()) "
    }
   },
   "types_to_exclude": [
    "module",
    "function",
    "builtin_function_or_method",
    "instance",
    "_Feature"
   ],
   "window_display": false
  }
 },
 "nbformat": 4,
 "nbformat_minor": 1
}
